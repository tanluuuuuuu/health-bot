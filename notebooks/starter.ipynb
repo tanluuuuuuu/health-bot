{
 "cells": [
  {
   "cell_type": "code",
   "execution_count": 27,
   "id": "1e36679c",
   "metadata": {},
   "outputs": [],
   "source": [
    "# !pip install python-dotenv==1.1.0\n",
    "# !pip install langgraph-checkpoint==2.0.26\n",
    "# !pip install langgraph==0.4.5\n",
    "# !pip install Pillow\n",
    "# pip install -U langchain-tavily==0.1.6\n"
   ]
  },
  {
   "cell_type": "code",
   "execution_count": 28,
   "id": "initial_id",
   "metadata": {
    "ExecuteTime": {
     "end_time": "2024-09-25T15:39:53.914515Z",
     "start_time": "2024-09-25T15:39:53.907761Z"
    },
    "collapsed": true
   },
   "outputs": [],
   "source": [
    "# Load in the OpenAI key and Tavily key.\n",
    "# In the project folder, create a file named 'config.env'\n",
    "# ensure your .env file contains keys named OPENAI_API_KEY=\"your key\" and TAVILY_API_KEY=\"your key\"\n",
    "from dotenv import load_dotenv\n",
    "import os \n",
    "\n",
    "load_dotenv('config.env')\n",
    "assert os.getenv('OPENAI_API_KEY') is not None\n",
    "assert os.getenv('TAVILY_API_KEY') is not None"
   ]
  },
  {
   "cell_type": "code",
   "execution_count": 29,
   "id": "1c29030a",
   "metadata": {},
   "outputs": [],
   "source": [
    "import time\n",
    "\n",
    "# Helper functions\n",
    "def display_text_to_user(text):\n",
    "    print(text) \n",
    "    time.sleep(1) # wait for it to render before asking for input or it'll never show up.\n",
    "    \n",
    "def ask_user_for_input(input_description):\n",
    "    response = input(input_description)\n",
    "    return response"
   ]
  },
  {
   "cell_type": "code",
   "execution_count": 37,
   "id": "9e2a4034",
   "metadata": {},
   "outputs": [],
   "source": [
    "from typing_extensions import TypedDict, Annotated\n",
    "from langgraph.graph.message import add_messages\n",
    "\n",
    "class State(TypedDict):\n",
    "    messages: Annotated[list, add_messages]\n",
    "    topic: str\n",
    "    topic_answer: str\n",
    "    user_additional_information: Annotated[list, str]\n",
    "    "
   ]
  },
  {
   "cell_type": "code",
   "execution_count": 31,
   "id": "67ed10a1",
   "metadata": {},
   "outputs": [],
   "source": [
    "import json\n",
    "from langchain_openai import ChatOpenAI\n",
    "from langchain_tavily import TavilySearch\n",
    "from langchain_core.messages import ToolMessage\n",
    "from langgraph.types import Command, interrupt\n",
    "from langchain_core.tools import tool\n",
    "\n",
    "model = ChatOpenAI(\n",
    "    model=\"gpt-4o-mini\",\n",
    "    temperature=0, \n",
    "    streaming=False,\n",
    "    base_url = \"https://openai.vocareum.com/v1\",\n",
    "    max_tokens=250\n",
    ")\n",
    "\n",
    "tavily_search_tool = TavilySearch(\n",
    "    api_key=os.getenv('TAVILY_API_KEY'),\n",
    "    max_results=2,\n",
    "    topic=\"general\",\n",
    "    include_raw_content=True\n",
    "    # include_answer=False,\n",
    "    # include_images=False,\n",
    "    # include_image_descriptions=False,\n",
    "    # search_depth=\"basic\",\n",
    "    # time_range=\"day\",\n",
    "    # include_domains=None,\n",
    "    # exclude_domains=None\n",
    ")\n",
    "# tavily_search_tool.invoke(\"apple meaning\")\n",
    "\n",
    "@tool\n",
    "def user_clarification(query: str) -> str:\n",
    "    user_response = interrupt({\"query\": query})\n",
    "    return user_response[\"data\"]\n",
    "\n",
    "class ToolNode:\n",
    "    \"\"\"A node that runs the tools requested in the last AIMessage.\"\"\"\n",
    "\n",
    "    def __init__(self, tools: list) -> None:\n",
    "        self.tools_by_name = {tool.name: tool for tool in tools}\n",
    "\n",
    "    def __call__(self, inputs: dict):\n",
    "        if messages := inputs.get(\"messages\", []):\n",
    "            message = messages[-1]\n",
    "        else:\n",
    "            raise ValueError(\"No message found in input\")\n",
    "        outputs = []\n",
    "        \n",
    "        for tool_call in message.tool_calls:\n",
    "            tool_result = self.tools_by_name[tool_call[\"name\"]].invoke(\n",
    "                tool_call[\"args\"]\n",
    "            )\n",
    "            outputs.append(\n",
    "                ToolMessage(\n",
    "                    content=json.dumps(tool_result),\n",
    "                    name=tool_call[\"name\"],\n",
    "                    tool_call_id=tool_call[\"id\"],\n",
    "                )\n",
    "            )\n",
    "        return {\"messages\": outputs}\n",
    "    \n",
    "tools = [tavily_search_tool, user_clarification]\n",
    "tool_node = ToolNode(tools=tools)\n",
    "model_with_tools = model.bind_tools(tools=tools)"
   ]
  },
  {
   "cell_type": "code",
   "execution_count": 32,
   "id": "663923b47827d3f1",
   "metadata": {
    "ExecuteTime": {
     "end_time": "2024-09-25T16:08:52.147454Z",
     "start_time": "2024-09-25T16:08:50.583034Z"
    }
   },
   "outputs": [],
   "source": [
    "from langchain_core.messages import HumanMessage, AIMessage\n",
    "from langgraph.graph import StateGraph, START, END\n",
    "\n",
    "def get_topic_from_user(state: State):\n",
    "    topic = ask_user_for_input(\n",
    "        \"What helth topic or medical condition you'd like to learn about today?\")\n",
    "    human_message = HumanMessage(content=f\"Tell me everything I need to know about {topic}. Summarize the results in 3-5 sentences in patient-friendly language.\")\n",
    "    return {\"topic\": topic, \"messages\": [human_message]}\n",
    "\n",
    "def clarify_user_request(state: State):\n",
    "    topic = state['topic']\n",
    "    \n",
    "    prompt = f\"\"\"Patient want to learn about this topic: {topic}. Do you have any question for the user before answering them?\n",
    "    Response format: JSON\n",
    "    Example format:\n",
    "    {\n",
    "        \n",
    "    }\n",
    "    \"\"\"\n",
    "    response = model_with_tools.invoke(prompt)\n",
    "    return {\"mess\"}\n",
    "\n",
    "def answer_user_question(state: State):\n",
    "    messages = state.get(\"messages\", [])\n",
    "\n",
    "    ai_response = model_with_tools.invoke(messages)\n",
    "    messages.append(ai_response)\n",
    "\n",
    "    return {'topic_answer': ai_response, 'messages': messages}\n",
    "\n",
    "\n",
    "def route_tools(state: State):\n",
    "    \"\"\"\n",
    "    Use in the conditional_edge to route to the ToolNode if the last message\n",
    "    has tool calls. Otherwise, route to the end.\n",
    "    \"\"\"\n",
    "    if isinstance(state, list):\n",
    "        ai_message = state[-1]\n",
    "    elif messages := state.get(\"messages\", []):\n",
    "        ai_message = messages[-1]\n",
    "    else:\n",
    "        raise ValueError(\n",
    "            f\"No messages found in input state to tool_edge: {state}\")\n",
    "    if hasattr(ai_message, \"tool_calls\") and len(ai_message.tool_calls) > 0:\n",
    "        return \"tools\"\n",
    "    return END"
   ]
  },
  {
   "cell_type": "code",
   "execution_count": 33,
   "id": "3250a743",
   "metadata": {},
   "outputs": [],
   "source": [
    "from langgraph.checkpoint.memory import MemorySaver\n",
    "from PIL import Image\n",
    "\n",
    "workflow = StateGraph(State)\n",
    "\n",
    "workflow.add_node(\"tools\", tool_node)\n",
    "workflow.add_node(\"get_topic_from_user\", get_topic_from_user)\n",
    "workflow.add_node(\"answer_user_question\", answer_user_question)\n",
    "\n",
    "workflow.add_edge(START, \"get_topic_from_user\")\n",
    "workflow.add_edge(\"get_topic_from_user\", \"answer_user_question\")\n",
    "workflow.add_conditional_edges(\n",
    "    \"answer_user_question\",\n",
    "    route_tools,\n",
    "    {\n",
    "        \"tools\": \"tools\",\n",
    "        END: END,\n",
    "    })\n",
    "workflow.add_edge(\"tools\", \"answer_user_question\")\n",
    "\n",
    "memory = MemorySaver()\n",
    "app = workflow.compile(checkpointer=memory)"
   ]
  },
  {
   "cell_type": "code",
   "execution_count": 34,
   "id": "04b26f75",
   "metadata": {},
   "outputs": [
    {
     "data": {
      "image/png": "[encoded data removed]",
      "text/plain": [
       "<IPython.core.display.Image object>"
      ]
     },
     "metadata": {},
     "output_type": "display_data"
    }
   ],
   "source": [
    "from IPython.display import Image, display\n",
    "\n",
    "display(Image(app.get_graph().draw_mermaid_png()))"
   ]
  },
  {
   "cell_type": "code",
   "execution_count": 35,
   "id": "65509ff3",
   "metadata": {},
   "outputs": [],
   "source": [
    "from langchain_core.runnables import RunnableConfig\n",
    "\n",
    "config = RunnableConfig(recursion_limit=2000, configurable={\"thread_id\": \"2\"})  \n",
    "# app.invoke({\"topic\": \"\", \"messages\": []}, config=config)"
   ]
  },
  {
   "cell_type": "code",
   "execution_count": 36,
   "id": "31b6e3cd",
   "metadata": {},
   "outputs": [
    {
     "name": "stdout",
     "output_type": "stream",
     "text": [
      "Assistant: Tell me everything I need to know about sick. Summarize the results in 3-5 sentences in patient-friendly language.\n",
      "\n",
      "Assistant: \n",
      "Assistant: {\"query\": \"sick\", \"follow_up_questions\": null, \"answer\": null, \"images\": [], \"results\": [{\"url\": \"https://www.dictionary.com/browse/sick\", \"title\": \"SICK Definition & Meaning - Dictionary.com\", \"content\": \"adjective. sicker, sickest. affected with ill health, disease, or illness; ailing: She was sick with the flu for two weeks. Synonyms: indisposed, infirm.\", \"score\": 0.7742597, \"raw_content\": null}, {\"url\": \"https://dictionary.cambridge.org/us/dictionary/english/sick\", \"title\": \"SICK | definition in the Cambridge English Dictionary\", \"content\": \"physically or mentally ill; not well or healthy: a sick child, a sick cow. My father has been off sick (= not working because of illness) for a long time.\", \"score\": 0.76596165, \"raw_content\": null}], \"response_time\": 3.48}\n",
      "The term \"sick\" refers to being physically or mentally unwell. It can describe a range of conditions, from minor illnesses like a cold to more serious diseases. For example, someone might be \"sick\" with the flu or unable to work due to illness. It's important to recognize when you're feeling unwell and seek appropriate care if needed.\n",
      "Assistant: The term \"sick\" refers to being physically or mentally unwell. It can describe a range of conditions, from minor illnesses like a cold to more serious diseases. For example, someone might be \"sick\" with the flu or unable to work due to illness. It's important to recognize when you're feeling unwell and seek appropriate care if needed.\n",
      "Goodbye!\n"
     ]
    }
   ],
   "source": [
    "def stream_graph_updates(user_input: str):\n",
    "    for event in app.stream({\"messages\": [{\"role\": \"user\", \"content\": user_input}]}, config):\n",
    "        for value in event.values():\n",
    "            print(\"Assistant:\", value[\"messages\"][-1].content)\n",
    "\n",
    "while True:\n",
    "    try:\n",
    "        stream_graph_updates(user_input)\n",
    "        user_input = input(\"Do you want to continue? \")\n",
    "        if user_input.lower() in [\"quit\", \"exit\", \"q\"]:\n",
    "            print(\"Goodbye!\")\n",
    "            break\n",
    "    except:\n",
    "        # fallback if input() is not available\n",
    "        user_input = \"What do you know about LangGraph?\"\n",
    "        print(\"User: \" + user_input)\n",
    "        stream_graph_updates(user_input)\n",
    "        break"
   ]
  },
  {
   "cell_type": "code",
   "execution_count": null,
   "id": "a9156a53",
   "metadata": {},
   "outputs": [],
   "source": []
  },
  {
   "cell_type": "code",
   "execution_count": null,
   "id": "426fe00b",
   "metadata": {},
   "outputs": [],
   "source": []
  }
 ],
 "metadata": {
  "kernelspec": {
   "display_name": ".venv",
   "language": "python",
   "name": "python3"
  },
  "language_info": {
   "codemirror_mode": {
    "name": "ipython",
    "version": 3
   },
   "file_extension": ".py",
   "mimetype": "text/x-python",
   "name": "python",
   "nbconvert_exporter": "python",
   "pygments_lexer": "ipython3",
   "version": "3.13.3"
  }
 },
 "nbformat": 4,
 "nbformat_minor": 5
}
